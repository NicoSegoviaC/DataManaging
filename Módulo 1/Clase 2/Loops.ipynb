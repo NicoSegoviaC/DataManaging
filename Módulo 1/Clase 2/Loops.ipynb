{
 "cells": [
  {
   "cell_type": "markdown",
   "id": "03286cc8-3ea8-4e37-a02e-9f9ff34ce67b",
   "metadata": {},
   "source": [
    "# Loops o bucles en Python\n",
    "#### for i in range(1, 6): define un loop que se ejecutará 5 veces, con i tomando valores desde 1 hasta 5 (el valor final de 6 en range no está incluido).\n",
    "#### : indica el inicio del bloque de código que se ejecutará en cada iteración del loop.\n",
    "#### print(i) imprime el valor actual de i.\n",
    "#### La indentación (espacios en blanco antes de print(i)) indica el final del bloque de código."
   ]
  },
  {
   "cell_type": "code",
   "execution_count": 5,
   "id": "c35a6729-d9eb-4ace-a578-75d7ed1a6adf",
   "metadata": {
    "collapsed": true,
    "jupyter": {
     "outputs_hidden": true
    }
   },
   "outputs": [
    {
     "name": "stdout",
     "output_type": "stream",
     "text": [
      "1\n",
      "2\n",
      "3\n",
      "4\n",
      "5\n",
      "6\n",
      "7\n",
      "8\n",
      "9\n",
      "10\n",
      "11\n",
      "12\n",
      "13\n",
      "14\n",
      "15\n",
      "16\n",
      "17\n",
      "18\n",
      "19\n"
     ]
    }
   ],
   "source": [
    "for i in range(1, 20):\n",
    "    print(i)\n",
    "   "
   ]
  },
  {
   "cell_type": "code",
   "execution_count": 8,
   "id": "eb21d3c5-9689-410f-9374-9cf09653da2a",
   "metadata": {
    "collapsed": true,
    "jupyter": {
     "outputs_hidden": true
    }
   },
   "outputs": [
    {
     "name": "stdout",
     "output_type": "stream",
     "text": [
      "Bienvenide Carmen al curso de DataManaging.Tome asiento\n",
      "Bienvenide Leslie al curso de DataManaging.Tome asiento\n",
      "Bienvenide Joaquin al curso de DataManaging.Tome asiento\n",
      "Bienvenide Fermin al curso de DataManaging.Tome asiento\n",
      "Bienvenide Max al curso de DataManaging.Tome asiento\n",
      "Bienvenide Victor al curso de DataManaging.Tome asiento\n",
      "Bienvenide Jan al curso de DataManaging.Tome asiento\n",
      "Bienvenide Cecilia al curso de DataManaging.Tome asiento\n",
      "Bienvenide Katherine al curso de DataManaging.Tome asiento\n",
      "Bienvenide Ninoshka al curso de DataManaging.Tome asiento\n",
      "Bienvenide Karen al curso de DataManaging.Tome asiento\n",
      "Bienvenide Sebastían al curso de DataManaging.Tome asiento\n",
      "Bienvenide Valentina al curso de DataManaging.Tome asiento\n"
     ]
    }
   ],
   "source": [
    "##Iterar con texto\n",
    "\n",
    "nombres = [\"Carmen\", \"Leslie\", \"Joaquin\", \"Fermin\",\"Max\",\"Victor\",\"Jan\",\"Cecilia\",\n",
    "           \"Katherine\",\"Ninoshka\",\"Karen\",\"Sebastían\",\"Valentina\"]\n",
    "\n",
    "for nombre in nombres:\n",
    "    mensaje = f\"Bienvenide {nombre} al curso de DataManaging.Tome asiento\"\n",
    "    print(mensaje)\n"
   ]
  },
  {
   "cell_type": "code",
   "execution_count": 2,
   "id": "fd450f35-e98b-4935-bd54-e60c8a5fe54e",
   "metadata": {
    "collapsed": true,
    "jupyter": {
     "outputs_hidden": true
    }
   },
   "outputs": [
    {
     "name": "stdout",
     "output_type": "stream",
     "text": [
      "El cuadrado de 1 es 1\n",
      "El cuadrado de 2 es 4\n",
      "El cuadrado de 3 es 9\n",
      "El cuadrado de 4 es 16\n",
      "El cuadrado de 5 es 25\n"
     ]
    }
   ],
   "source": [
    "# Definimos la función square\n",
    "def square(x):\n",
    "    return x ** 2\n",
    "\n",
    "# Creamos una lista con algunos números\n",
    "numeros = [1, 2, 3, 4, 5]\n",
    "\n",
    "# Aplicamos la función square a cada número en la lista usando un loop for\n",
    "for i in range(len(numeros)):\n",
    "    resultado = square(numeros[i])\n",
    "    print(\"El cuadrado de\", numeros[i], \"es\", resultado)\n"
   ]
  },
  {
   "cell_type": "markdown",
   "id": "b1155189-30f3-437f-b7e3-e82ff5d48a4f",
   "metadata": {},
   "source": [
    "### En este caso, hemos utilizado la función range() para generar una secuencia de números que van desde 0 hasta la longitud de la lista numeros, y luego hemos utilizado un loop for para iterar sobre esos números. Dentro del loop, aplicamos la función square() a cada número en la lista y utilizamos la función print() para mostrar el resultado. En el segundo loop, simplemente imprimimos el índice de cada elemento en la lista."
   ]
  },
  {
   "cell_type": "markdown",
   "id": "19a03d2e-1041-41e2-bd5e-21c191074d4c",
   "metadata": {},
   "source": [
    "### Aplicación a un problema en el mundo real:\n",
    "\n",
    "Qué pasa si tenemos multiples archivos distintos, pero con la misma estructura, y debemos depurarlos y aplicar expresiones regulares para poder trabajarlos? Podemos crear un patrón y aplicarlo en loop a todos los archivos?"
   ]
  },
  {
   "cell_type": "code",
   "execution_count": 2,
   "id": "4197e944-3a91-4b54-bb5f-a7f708c48774",
   "metadata": {
    "tags": []
   },
   "outputs": [
    {
     "data": {
      "text/html": [
       "<div>\n",
       "<style scoped>\n",
       "    .dataframe tbody tr th:only-of-type {\n",
       "        vertical-align: middle;\n",
       "    }\n",
       "\n",
       "    .dataframe tbody tr th {\n",
       "        vertical-align: top;\n",
       "    }\n",
       "\n",
       "    .dataframe thead th {\n",
       "        text-align: right;\n",
       "    }\n",
       "</style>\n",
       "<table border=\"1\" class=\"dataframe\">\n",
       "  <thead>\n",
       "    <tr style=\"text-align: right;\">\n",
       "      <th></th>\n",
       "      <th>Name</th>\n",
       "      <th>Radio Call Sign (RC)</th>\n",
       "      <th>Location date</th>\n",
       "      <th>Latitude</th>\n",
       "      <th>Longitude</th>\n",
       "      <th>Heading</th>\n",
       "      <th>Speed (kt)</th>\n",
       "    </tr>\n",
       "  </thead>\n",
       "  <tbody>\n",
       "    <tr>\n",
       "      <th>0</th>\n",
       "      <td>HURACAN I (ART)</td>\n",
       "      <td>CB7014</td>\n",
       "      <td>15/12/2022 11:17:01</td>\n",
       "      <td>-42.1618</td>\n",
       "      <td>-73.3389</td>\n",
       "      <td>301.0</td>\n",
       "      <td>0.99 kt</td>\n",
       "    </tr>\n",
       "    <tr>\n",
       "      <th>1</th>\n",
       "      <td>HURACAN I (ART)</td>\n",
       "      <td>CB7014</td>\n",
       "      <td>15/12/2022 11:32:01</td>\n",
       "      <td>-42.1604</td>\n",
       "      <td>-73.3427</td>\n",
       "      <td>321.0</td>\n",
       "      <td>6.99 kt</td>\n",
       "    </tr>\n",
       "    <tr>\n",
       "      <th>2</th>\n",
       "      <td>HURACAN I (ART)</td>\n",
       "      <td>CB7014</td>\n",
       "      <td>15/12/2022 11:47:01</td>\n",
       "      <td>-42.1349</td>\n",
       "      <td>-73.3633</td>\n",
       "      <td>353.0</td>\n",
       "      <td>7.50 kt</td>\n",
       "    </tr>\n",
       "    <tr>\n",
       "      <th>3</th>\n",
       "      <td>HURACAN I (ART)</td>\n",
       "      <td>CB7014</td>\n",
       "      <td>15/12/2022 12:02:01</td>\n",
       "      <td>-42.1324</td>\n",
       "      <td>-73.3625</td>\n",
       "      <td>0.0</td>\n",
       "      <td>0.00 kt</td>\n",
       "    </tr>\n",
       "    <tr>\n",
       "      <th>4</th>\n",
       "      <td>HURACAN I (ART)</td>\n",
       "      <td>CB7014</td>\n",
       "      <td>15/12/2022 12:17:01</td>\n",
       "      <td>-42.1270</td>\n",
       "      <td>-73.3640</td>\n",
       "      <td>351.0</td>\n",
       "      <td>6.99 kt</td>\n",
       "    </tr>\n",
       "  </tbody>\n",
       "</table>\n",
       "</div>"
      ],
      "text/plain": [
       "              Name Radio Call Sign (RC)        Location date  Latitude  \\\n",
       "0  HURACAN I (ART)               CB7014  15/12/2022 11:17:01  -42.1618   \n",
       "1  HURACAN I (ART)               CB7014  15/12/2022 11:32:01  -42.1604   \n",
       "2  HURACAN I (ART)               CB7014  15/12/2022 11:47:01  -42.1349   \n",
       "3  HURACAN I (ART)               CB7014  15/12/2022 12:02:01  -42.1324   \n",
       "4  HURACAN I (ART)               CB7014  15/12/2022 12:17:01  -42.1270   \n",
       "\n",
       "   Longitude Heading Speed (kt)  \n",
       "0   -73.3389   301.0    0.99 kt  \n",
       "1   -73.3427   321.0    6.99 kt  \n",
       "2   -73.3633   353.0    7.50 kt  \n",
       "3   -73.3625     0.0    0.00 kt  \n",
       "4   -73.3640   351.0    6.99 kt  "
      ]
     },
     "execution_count": 2,
     "metadata": {},
     "output_type": "execute_result"
    }
   ],
   "source": [
    "###Importar csv, y archivos excel\n",
    "import pandas as pd\n",
    "\n",
    "###Juguemos con los datos de la tarea?\n",
    "\n",
    "\n",
    "df=pd.read_csv(\"/Users/nicolassegovia/Dropbox/CLASES/DataManaging/Clase3/data/forLooping/report_31_20221216_flota_artesanal.csv\",sep=\";\")\n",
    "\n",
    "\n",
    "df.head()"
   ]
  },
  {
   "cell_type": "code",
   "execution_count": 3,
   "id": "472b0940-0db0-4582-a930-358c18981a1b",
   "metadata": {
    "tags": []
   },
   "outputs": [
    {
     "name": "stdout",
     "output_type": "stream",
     "text": [
      "          Name        Location date  Latitude  Longitude Speed (kt)\n",
      "0      HU_7014  15/12/2022 11:17:01  -42.1618   -73.3389    0.99 kt\n",
      "1      HU_7014  15/12/2022 11:32:01  -42.1604   -73.3427    6.99 kt\n",
      "2      HU_7014  15/12/2022 11:47:01  -42.1349   -73.3633    7.50 kt\n",
      "3      HU_7014  15/12/2022 12:02:01  -42.1324   -73.3625    0.00 kt\n",
      "4      HU_7014  15/12/2022 12:17:01  -42.1270   -73.3640    6.99 kt\n",
      "...        ...                  ...       ...        ...        ...\n",
      "10779  MA_8415  16/12/2022 10:26:37  -26.9685   -70.8693    9.00 kt\n",
      "10780  MA_8415  16/12/2022 10:34:37  -26.9524   -70.8781    8.49 kt\n",
      "10781  MA_8415  16/12/2022 10:42:37  -26.9331   -70.8791    9.00 kt\n",
      "10782  MA_8415  16/12/2022 10:50:37  -26.9141   -70.8826    9.00 kt\n",
      "10783  MA_8415  16/12/2022 10:58:37  -26.8952   -70.8851    8.00 kt\n",
      "\n",
      "[10784 rows x 5 columns]\n"
     ]
    }
   ],
   "source": [
    "##Cómo podemos modificar el nombre de las embarcaciones?\n",
    "##Forma 1 cada señal de radio es única, podemos usarlo a nuestro favor a pesar de no necesitar esa columna\n",
    "\n",
    "import pandas as pd\n",
    "import re\n",
    "\n",
    "# Definir la expresión regular\n",
    "regex = r\"^([A-Z]{2}).*;\\w+(\\d{4})$\"\n",
    "\n",
    "# Aplicar la expresión regular a las columnas Mobile y Radio Call Sign del DataFrame\n",
    "df[\"Name\"] = df.apply(lambda row: re.sub(regex, r\"\\1_\\2\", row[\"Name\"] + \";\" + row[\"Radio Call Sign (RC)\"]), axis=1)\n",
    "\n",
    "# Eliminar la columna Radio Call Sign y heading del DataFrame\n",
    "df.drop(columns=[\"Radio Call Sign (RC)\"], inplace=True)\n",
    "df.drop(columns=[\"Heading\"], inplace=True)\n",
    "\n",
    "# Mostrar el resultado\n",
    "print(df)\n",
    "\n"
   ]
  },
  {
   "cell_type": "code",
   "execution_count": 4,
   "id": "040fd36c-ce9f-4ee6-8766-fa9266ab93aa",
   "metadata": {
    "tags": []
   },
   "outputs": [
    {
     "data": {
      "text/html": [
       "<div>\n",
       "<style scoped>\n",
       "    .dataframe tbody tr th:only-of-type {\n",
       "        vertical-align: middle;\n",
       "    }\n",
       "\n",
       "    .dataframe tbody tr th {\n",
       "        vertical-align: top;\n",
       "    }\n",
       "\n",
       "    .dataframe thead th {\n",
       "        text-align: right;\n",
       "    }\n",
       "</style>\n",
       "<table border=\"1\" class=\"dataframe\">\n",
       "  <thead>\n",
       "    <tr style=\"text-align: right;\">\n",
       "      <th></th>\n",
       "      <th>Name</th>\n",
       "      <th>Location date</th>\n",
       "      <th>Latitude</th>\n",
       "      <th>Longitude</th>\n",
       "      <th>Speed (kt)</th>\n",
       "    </tr>\n",
       "  </thead>\n",
       "  <tbody>\n",
       "    <tr>\n",
       "      <th>0</th>\n",
       "      <td>HU_7014</td>\n",
       "      <td>15/12/2022 11:17:01</td>\n",
       "      <td>-42.16</td>\n",
       "      <td>-73.34</td>\n",
       "      <td>0.99 kt</td>\n",
       "    </tr>\n",
       "    <tr>\n",
       "      <th>1</th>\n",
       "      <td>HU_7014</td>\n",
       "      <td>15/12/2022 11:32:01</td>\n",
       "      <td>-42.16</td>\n",
       "      <td>-73.34</td>\n",
       "      <td>6.99 kt</td>\n",
       "    </tr>\n",
       "    <tr>\n",
       "      <th>2</th>\n",
       "      <td>HU_7014</td>\n",
       "      <td>15/12/2022 11:47:01</td>\n",
       "      <td>-42.13</td>\n",
       "      <td>-73.36</td>\n",
       "      <td>7.50 kt</td>\n",
       "    </tr>\n",
       "    <tr>\n",
       "      <th>3</th>\n",
       "      <td>HU_7014</td>\n",
       "      <td>15/12/2022 12:02:01</td>\n",
       "      <td>-42.13</td>\n",
       "      <td>-73.36</td>\n",
       "      <td>0.00 kt</td>\n",
       "    </tr>\n",
       "    <tr>\n",
       "      <th>4</th>\n",
       "      <td>HU_7014</td>\n",
       "      <td>15/12/2022 12:17:01</td>\n",
       "      <td>-42.13</td>\n",
       "      <td>-73.36</td>\n",
       "      <td>6.99 kt</td>\n",
       "    </tr>\n",
       "  </tbody>\n",
       "</table>\n",
       "</div>"
      ],
      "text/plain": [
       "      Name        Location date  Latitude  Longitude Speed (kt)\n",
       "0  HU_7014  15/12/2022 11:17:01    -42.16     -73.34    0.99 kt\n",
       "1  HU_7014  15/12/2022 11:32:01    -42.16     -73.34    6.99 kt\n",
       "2  HU_7014  15/12/2022 11:47:01    -42.13     -73.36    7.50 kt\n",
       "3  HU_7014  15/12/2022 12:02:01    -42.13     -73.36    0.00 kt\n",
       "4  HU_7014  15/12/2022 12:17:01    -42.13     -73.36    6.99 kt"
      ]
     },
     "execution_count": 4,
     "metadata": {},
     "output_type": "execute_result"
    }
   ],
   "source": [
    "##dejemos solo dos decimales para latitude y longitude.\n",
    "\n",
    "df[\"Latitude\"] = df[\"Latitude\"].round(2)\n",
    "df[\"Longitude\"] = df[\"Longitude\"].round(2)\n",
    "\n",
    "df.head()"
   ]
  },
  {
   "cell_type": "code",
   "execution_count": 5,
   "id": "c4d51965-4140-40e0-966c-e0bdb72e0fb1",
   "metadata": {
    "tags": []
   },
   "outputs": [
    {
     "name": "stderr",
     "output_type": "stream",
     "text": [
      "<ipython-input-5-c344e0725eef>:5: FutureWarning: The default value of regex will change from True to False in a future version.\n",
      "  df['Location date'] = df['Location date'].str.replace(r'\\d+/(\\d+)/(\\d+)\\s.+', r'\\1-\\2')\n"
     ]
    },
    {
     "data": {
      "text/html": [
       "<div>\n",
       "<style scoped>\n",
       "    .dataframe tbody tr th:only-of-type {\n",
       "        vertical-align: middle;\n",
       "    }\n",
       "\n",
       "    .dataframe tbody tr th {\n",
       "        vertical-align: top;\n",
       "    }\n",
       "\n",
       "    .dataframe thead th {\n",
       "        text-align: right;\n",
       "    }\n",
       "</style>\n",
       "<table border=\"1\" class=\"dataframe\">\n",
       "  <thead>\n",
       "    <tr style=\"text-align: right;\">\n",
       "      <th></th>\n",
       "      <th>Name</th>\n",
       "      <th>Location date</th>\n",
       "      <th>Latitude</th>\n",
       "      <th>Longitude</th>\n",
       "      <th>Speed (kt)</th>\n",
       "    </tr>\n",
       "  </thead>\n",
       "  <tbody>\n",
       "    <tr>\n",
       "      <th>0</th>\n",
       "      <td>HU_7014</td>\n",
       "      <td>12-2022</td>\n",
       "      <td>-42.16</td>\n",
       "      <td>-73.34</td>\n",
       "      <td>0.99 kt</td>\n",
       "    </tr>\n",
       "    <tr>\n",
       "      <th>1</th>\n",
       "      <td>HU_7014</td>\n",
       "      <td>12-2022</td>\n",
       "      <td>-42.16</td>\n",
       "      <td>-73.34</td>\n",
       "      <td>6.99 kt</td>\n",
       "    </tr>\n",
       "    <tr>\n",
       "      <th>2</th>\n",
       "      <td>HU_7014</td>\n",
       "      <td>12-2022</td>\n",
       "      <td>-42.13</td>\n",
       "      <td>-73.36</td>\n",
       "      <td>7.50 kt</td>\n",
       "    </tr>\n",
       "    <tr>\n",
       "      <th>3</th>\n",
       "      <td>HU_7014</td>\n",
       "      <td>12-2022</td>\n",
       "      <td>-42.13</td>\n",
       "      <td>-73.36</td>\n",
       "      <td>0.00 kt</td>\n",
       "    </tr>\n",
       "    <tr>\n",
       "      <th>4</th>\n",
       "      <td>HU_7014</td>\n",
       "      <td>12-2022</td>\n",
       "      <td>-42.13</td>\n",
       "      <td>-73.36</td>\n",
       "      <td>6.99 kt</td>\n",
       "    </tr>\n",
       "  </tbody>\n",
       "</table>\n",
       "</div>"
      ],
      "text/plain": [
       "      Name Location date  Latitude  Longitude Speed (kt)\n",
       "0  HU_7014       12-2022    -42.16     -73.34    0.99 kt\n",
       "1  HU_7014       12-2022    -42.16     -73.34    6.99 kt\n",
       "2  HU_7014       12-2022    -42.13     -73.36    7.50 kt\n",
       "3  HU_7014       12-2022    -42.13     -73.36    0.00 kt\n",
       "4  HU_7014       12-2022    -42.13     -73.36    6.99 kt"
      ]
     },
     "execution_count": 5,
     "metadata": {},
     "output_type": "execute_result"
    }
   ],
   "source": [
    "##ahora para el formato de la fecha. Podemos aplicar la misma expresion regular. \n",
    "##primero debemos definirla\n",
    "\n",
    "# aplicar la expresión regular y el reemplazo en la columna \"Date\"\n",
    "df['Location date'] = df['Location date'].str.replace(r'\\d+/(\\d+)/(\\d+)\\s.+', r'\\1-\\2')\n",
    "\n",
    "df.head()\n",
    "\n"
   ]
  },
  {
   "cell_type": "code",
   "execution_count": 6,
   "id": "ad13427d-65a1-4dea-9a25-91f4c9921ba4",
   "metadata": {
    "tags": []
   },
   "outputs": [
    {
     "data": {
      "text/html": [
       "<div>\n",
       "<style scoped>\n",
       "    .dataframe tbody tr th:only-of-type {\n",
       "        vertical-align: middle;\n",
       "    }\n",
       "\n",
       "    .dataframe tbody tr th {\n",
       "        vertical-align: top;\n",
       "    }\n",
       "\n",
       "    .dataframe thead th {\n",
       "        text-align: right;\n",
       "    }\n",
       "</style>\n",
       "<table border=\"1\" class=\"dataframe\">\n",
       "  <thead>\n",
       "    <tr style=\"text-align: right;\">\n",
       "      <th></th>\n",
       "      <th>Name</th>\n",
       "      <th>Latitude</th>\n",
       "      <th>Longitude</th>\n",
       "      <th>Location date</th>\n",
       "      <th>Speed (kt)</th>\n",
       "    </tr>\n",
       "  </thead>\n",
       "  <tbody>\n",
       "    <tr>\n",
       "      <th>0</th>\n",
       "      <td>HU_7014</td>\n",
       "      <td>-42.16</td>\n",
       "      <td>-73.34</td>\n",
       "      <td>12-2022</td>\n",
       "      <td>0.99 kt</td>\n",
       "    </tr>\n",
       "    <tr>\n",
       "      <th>1</th>\n",
       "      <td>HU_7014</td>\n",
       "      <td>-42.16</td>\n",
       "      <td>-73.34</td>\n",
       "      <td>12-2022</td>\n",
       "      <td>6.99 kt</td>\n",
       "    </tr>\n",
       "    <tr>\n",
       "      <th>2</th>\n",
       "      <td>HU_7014</td>\n",
       "      <td>-42.13</td>\n",
       "      <td>-73.36</td>\n",
       "      <td>12-2022</td>\n",
       "      <td>7.50 kt</td>\n",
       "    </tr>\n",
       "    <tr>\n",
       "      <th>3</th>\n",
       "      <td>HU_7014</td>\n",
       "      <td>-42.13</td>\n",
       "      <td>-73.36</td>\n",
       "      <td>12-2022</td>\n",
       "      <td>0.00 kt</td>\n",
       "    </tr>\n",
       "    <tr>\n",
       "      <th>4</th>\n",
       "      <td>HU_7014</td>\n",
       "      <td>-42.13</td>\n",
       "      <td>-73.36</td>\n",
       "      <td>12-2022</td>\n",
       "      <td>6.99 kt</td>\n",
       "    </tr>\n",
       "  </tbody>\n",
       "</table>\n",
       "</div>"
      ],
      "text/plain": [
       "      Name  Latitude  Longitude Location date Speed (kt)\n",
       "0  HU_7014    -42.16     -73.34       12-2022    0.99 kt\n",
       "1  HU_7014    -42.16     -73.34       12-2022    6.99 kt\n",
       "2  HU_7014    -42.13     -73.36       12-2022    7.50 kt\n",
       "3  HU_7014    -42.13     -73.36       12-2022    0.00 kt\n",
       "4  HU_7014    -42.13     -73.36       12-2022    6.99 kt"
      ]
     },
     "execution_count": 6,
     "metadata": {},
     "output_type": "execute_result"
    }
   ],
   "source": [
    "##re ordenar columnas\n",
    "\n",
    "df = df.reindex(columns=[\"Name\", \"Latitude\", \"Longitude\",\"Location date\",\"Speed (kt)\"])\n",
    "\n",
    "df.head()\n",
    "\n"
   ]
  },
  {
   "cell_type": "markdown",
   "id": "6dd0ccc1-6e74-4692-a8c0-022c10fa0ad7",
   "metadata": {},
   "source": [
    "¿Es posible loopear todo?"
   ]
  },
  {
   "cell_type": "code",
   "execution_count": 14,
   "id": "f9f28ac7-ce8d-4e24-9203-e2d1b0cd92f0",
   "metadata": {
    "tags": []
   },
   "outputs": [
    {
     "name": "stdout",
     "output_type": "stream",
     "text": [
      "['/Users/nicolassegovia/Dropbox/CLASES/DataManaging/Clase3/data/forLooping/report_31_20221226_flota_artesanal.csv', '/Users/nicolassegovia/Dropbox/CLASES/DataManaging/Clase3/data/forLooping/report_31_20221227_flota_artesanal.csv', '/Users/nicolassegovia/Dropbox/CLASES/DataManaging/Clase3/data/forLooping/report_31_20221224_flota_artesanal.csv', '/Users/nicolassegovia/Dropbox/CLASES/DataManaging/Clase3/data/forLooping/report_31_20221225_flota_artesanal.csv', '/Users/nicolassegovia/Dropbox/CLASES/DataManaging/Clase3/data/forLooping/report_31_20221223_flota_artesanal.csv', '/Users/nicolassegovia/Dropbox/CLASES/DataManaging/Clase3/data/forLooping/report_31_20221222_flota_artesanal.csv', '/Users/nicolassegovia/Dropbox/CLASES/DataManaging/Clase3/data/forLooping/report_31_20221221_flota_artesanal.csv', '/Users/nicolassegovia/Dropbox/CLASES/DataManaging/Clase3/data/forLooping/report_31_20221220_flota_artesanal.csv', '/Users/nicolassegovia/Dropbox/CLASES/DataManaging/Clase3/data/forLooping/report_31_20221231_flota_artesanal.csv', '/Users/nicolassegovia/Dropbox/CLASES/DataManaging/Clase3/data/forLooping/report_31_20221228_flota_artesanal.csv', '/Users/nicolassegovia/Dropbox/CLASES/DataManaging/Clase3/data/forLooping/report_31_20221230_flota_artesanal.csv', '/Users/nicolassegovia/Dropbox/CLASES/DataManaging/Clase3/data/forLooping/report_31_20221229_flota_artesanal.csv', '/Users/nicolassegovia/Dropbox/CLASES/DataManaging/Clase3/data/forLooping/report_31_20221219_flota_artesanal.csv', '/Users/nicolassegovia/Dropbox/CLASES/DataManaging/Clase3/data/forLooping/report_31_20221218_flota_artesanal.csv', '/Users/nicolassegovia/Dropbox/CLASES/DataManaging/Clase3/data/forLooping/report_31_20221217_flota_artesanal.csv', '/Users/nicolassegovia/Dropbox/CLASES/DataManaging/Clase3/data/forLooping/report_31_20221216_flota_artesanal.csv']\n"
     ]
    }
   ],
   "source": [
    "import pandas as pd\n",
    "import re\n",
    "import os\n",
    "import glob\n",
    "\n",
    "\n",
    "# Obtener una lista de todos los archivos .csv en la carpeta\n",
    "folder_path = \"/Users/nicolassegovia/Dropbox/CLASES/DataManaging/Clase3/data/forLooping/\" # Reemplazar con la ruta de la carpeta\n",
    "csv_files = glob.glob(os.path.join(folder_path, \"*.csv\"))\n",
    "\n",
    "print(csv_files)\n"
   ]
  },
  {
   "cell_type": "code",
   "execution_count": 16,
   "id": "3a21609a-33f6-4845-957e-2e5f7f601150",
   "metadata": {
    "tags": []
   },
   "outputs": [
    {
     "name": "stderr",
     "output_type": "stream",
     "text": [
      "<ipython-input-16-bb472aea14d5>:19: FutureWarning: The default value of regex will change from True to False in a future version.\n",
      "  df['Location date'] = df['Location date'].str.replace(r'\\d+/(\\d+)/(\\d+)\\s.+', r'\\1-\\2')\n"
     ]
    }
   ],
   "source": [
    "# Iterar a través de los archivos y aplicar la expresión regular y otras funciones a cada uno\n",
    "\n",
    "# Definir la expresión regular\n",
    "regex = r\"^([A-Z]{2}).*;\\w+(\\d{4})$\"\n",
    "\n",
    "# Iterar a través de los archivos y aplicar la expresión regular y otras funciones a cada uno\n",
    "for file in csv_files:\n",
    "    # 1 Leer el archivo en un DataFrame de Pandas\n",
    "    df = pd.read_csv(file,sep=\";\")\n",
    "    \n",
    "    # 2 Aplicar la expresión regular a las columnas Name y Radio Call Sign\n",
    "    df[\"Name\"] = df.apply(lambda row: re.sub(regex, r\"\\1_\\2\", row[\"Name\"] + \";\" + row[\"Radio Call Sign (RC)\"]), axis=1)\n",
    "    \n",
    "    # 3 Redondear las columnas Latitude y Longitude a dos decimales\n",
    "    df[\"Latitude\"] = df[\"Latitude\"].round(2)\n",
    "    df[\"Longitude\"] = df[\"Longitude\"].round(2)\n",
    "    \n",
    "    # 4 Aplicar la expresión regular a la columna Location date\n",
    "    df['Location date'] = df['Location date'].str.replace(r'\\d+/(\\d+)/(\\d+)\\s.+', r'\\1-\\2')\n",
    "    \n",
    "    # 5 Eliminar la columna Radio Call Sign y heading del DataFrame\n",
    "    df.drop(columns=[\"Radio Call Sign (RC)\"], inplace=True)\n",
    "    df.drop(columns=[\"Heading\"], inplace=True)\n",
    "    \n",
    "    # 6 Reordenar las columnas del DataFrame\n",
    "    df = df.reindex(columns=[\"Name\", \"Latitude\", \"Longitude\",\"Location date\",\"Speed (kt)\"])\n",
    "    \n",
    "    # 7 Guardar el DataFrame modificado en un nuevo archivo con un sufijo \"_modified\"\n",
    "    archivos_nuevos = os.path.splitext(file)[0] + \"_modificado.csv\"\n",
    "    df.to_csv(archivos_nuevos, index=False)\n"
   ]
  },
  {
   "cell_type": "code",
   "execution_count": null,
   "id": "24ac9364-5d14-4994-b923-3bb398ed595e",
   "metadata": {},
   "outputs": [],
   "source": []
  }
 ],
 "metadata": {
  "kernelspec": {
   "display_name": "Python 3",
   "language": "python",
   "name": "python3"
  },
  "language_info": {
   "codemirror_mode": {
    "name": "ipython",
    "version": 3
   },
   "file_extension": ".py",
   "mimetype": "text/x-python",
   "name": "python",
   "nbconvert_exporter": "python",
   "pygments_lexer": "ipython3",
   "version": "3.8.8"
  }
 },
 "nbformat": 4,
 "nbformat_minor": 5
}
