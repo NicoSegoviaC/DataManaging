{
 "cells": [
  {
   "cell_type": "code",
   "execution_count": 2,
   "id": "5dcd98d6-4977-4399-8a06-3b96ae9c3b0d",
   "metadata": {},
   "outputs": [
    {
     "name": "stdout",
     "output_type": "stream",
     "text": [
      "Hola, estudiantes del curso de Manejo de Datos\n"
     ]
    }
   ],
   "source": [
    "print(\"Hola, estudiantes del curso de Manejo de Datos\")"
   ]
  },
  {
   "cell_type": "code",
   "execution_count": 2,
   "id": "1eaa94aa-f328-41e3-a171-4048dc008fe0",
   "metadata": {},
   "outputs": [],
   "source": [
    "# Asignación de valor a una variable\n",
    "x = 3\n",
    "\n",
    "# Acceso a elementos de una lista\n",
    "lista = [1, 2, 3, 4]\n",
    "lista[1]\n",
    "\n",
    "# Definición de una función\n",
    "def suma(a, b):\n",
    "  resultado = a + b\n",
    "  return resultado\n"
   ]
  },
  {
   "cell_type": "code",
   "execution_count": 3,
   "id": "934b63b0-06c0-4ef4-8103-456f7dc173bd",
   "metadata": {},
   "outputs": [],
   "source": [
    "import math  ##Importar módulos\n",
    "\n",
    "# Asignación de valor a una variable\n",
    "x = 3\n",
    "\n",
    "# Llamada a una función\n",
    "resultado = math.sqrt(x)\n",
    "\n",
    "# Operaciones aritméticas y lógicas\n",
    "a = 5\n",
    "b = 3\n",
    "suma = a + b\n",
    "resta = a - b\n",
    "multiplicacion = a * b\n",
    "division = a / b\n",
    "mayor = a > b\n"
   ]
  },
  {
   "cell_type": "code",
   "execution_count": 5,
   "id": "c9124163-6827-4505-8754-2e656fec5ea1",
   "metadata": {},
   "outputs": [],
   "source": [
    "##!pip install math\n",
    "\n",
    "#import nombre_del_modulo\n",
    "#from nombre_del_modulo import parte_especifica\n",
    "\n",
    "# Importación del módulo \"math\"\n",
    "import math\n",
    "\n",
    "# Uso de una función del módulo \"math\"\n",
    "raiz_cuadrada = math.sqrt(16)\n",
    "\n"
   ]
  },
  {
   "cell_type": "code",
   "execution_count": 6,
   "id": "929bd024-450f-42ad-bb67-1dfe6c584a89",
   "metadata": {},
   "outputs": [
    {
     "data": {
      "image/png": "[encoded data removed]",
      "text/plain": [
       "<Figure size 432x288 with 1 Axes>"
      ]
     },
     "metadata": {
      "needs_background": "light"
     },
     "output_type": "display_data"
    }
   ],
   "source": [
    "# Importación del módulo matplotlib\n",
    "import matplotlib.pyplot as plt\n",
    "\n",
    "# Creación del conjunto de datos\n",
    "x = [1, 2, 3, 4, 5]\n",
    "y = [2, 4, 6, 8, 10]\n",
    "\n",
    "# Creación del gráfico utilizando matplotlib con línea conectando los puntos\n",
    "plt.plot(x, y, linestyle='-', marker='o')\n",
    "plt.xlabel('Eje X')\n",
    "plt.ylabel('Eje Y')\n",
    "plt.title('Mi primer (?) gráfico en matplotlib')\n",
    "plt.show()\n"
   ]
  },
  {
   "cell_type": "code",
   "execution_count": null,
   "id": "8222a36a-536c-4a8f-be4e-348bb6a15d3c",
   "metadata": {},
   "outputs": [],
   "source": []
  }
 ],
 "metadata": {
  "kernelspec": {
   "display_name": "Python 3",
   "language": "python",
   "name": "python3"
  },
  "language_info": {
   "codemirror_mode": {
    "name": "ipython",
    "version": 3
   },
   "file_extension": ".py",
   "mimetype": "text/x-python",
   "name": "python",
   "nbconvert_exporter": "python",
   "pygments_lexer": "ipython3",
   "version": "3.8.8"
  }
 },
 "nbformat": 4,
 "nbformat_minor": 5
}
